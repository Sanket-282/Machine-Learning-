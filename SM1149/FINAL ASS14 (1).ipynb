{
 "cells": [
  {
   "cell_type": "code",
   "execution_count": 1,
   "id": "61b5c037",
   "metadata": {},
   "outputs": [],
   "source": [
    "# Import necessary libraries\n",
    "import pandas as pd\n",
    "import numpy as np\n",
    "from sklearn.model_selection import train_test_split\n",
    "from sklearn.preprocessing import StandardScaler\n",
    "from sklearn.ensemble import RandomForestClassifier, AdaBoostClassifier, VotingClassifier, StackingClassifier\n",
    "from sklearn.linear_model import LogisticRegression\n",
    "from sklearn.svm import SVC\n",
    "from sklearn.neighbors import KNeighborsClassifier\n",
    "from sklearn.tree import DecisionTreeClassifier\n",
    "from sklearn.metrics import accuracy_score, classification_report\n"
   ]
  },
  {
   "cell_type": "code",
   "execution_count": 2,
   "id": "fa8489b4",
   "metadata": {},
   "outputs": [],
   "source": [
    "# Load the dataset\n",
    "url = \"https://raw.githubusercontent.com/jbrownlee/Datasets/master/pima-indians-diabetes.data.csv\"\n",
    "columns = ['Pregnancies', 'Glucose', 'BloodPressure', 'SkinThickness', 'Insulin', 'BMI', 'DiabetesPedigreeFunction', 'Age', 'Outcome']\n",
    "data = pd.read_csv(url, names=columns)"
   ]
  },
  {
   "cell_type": "code",
   "execution_count": 3,
   "id": "eaadbc53",
   "metadata": {},
   "outputs": [],
   "source": [
    "# Split the data into features and labels\n",
    "X = data.drop('Outcome', axis=1)\n",
    "y = data['Outcome']"
   ]
  },
  {
   "cell_type": "code",
   "execution_count": 4,
   "id": "03f26723",
   "metadata": {},
   "outputs": [],
   "source": [
    "# Train-test split\n",
    "X_train, X_test, y_train, y_test = train_test_split(X, y, test_size=0.3, random_state=42, stratify=y)\n"
   ]
  },
  {
   "cell_type": "code",
   "execution_count": 5,
   "id": "02928f40",
   "metadata": {},
   "outputs": [],
   "source": [
    "# Feature scaling\n",
    "scaler = StandardScaler()\n",
    "X_train = scaler.fit_transform(X_train)\n",
    "X_test = scaler.transform(X_test)"
   ]
  },
  {
   "cell_type": "code",
   "execution_count": 6,
   "id": "9e98a5ed",
   "metadata": {},
   "outputs": [],
   "source": [
    "# Initialize individual classifiers\n",
    "rf_clf = RandomForestClassifier(n_estimators=100, random_state=42)\n",
    "ada_clf = AdaBoostClassifier(n_estimators=100, random_state=42)\n",
    "lr_clf = LogisticRegression(random_state=42)\n",
    "svc_clf = SVC(probability=True, random_state=42)\n",
    "knn_clf = KNeighborsClassifier()\n",
    "dt_clf = DecisionTreeClassifier(random_state=42)"
   ]
  },
  {
   "cell_type": "code",
   "execution_count": 7,
   "id": "386f5e31",
   "metadata": {},
   "outputs": [
    {
     "name": "stdout",
     "output_type": "stream",
     "text": [
      "Random Forest Accuracy: 0.7532467532467533\n",
      "Random Forest Classification Report:\n",
      "               precision    recall  f1-score   support\n",
      "\n",
      "           0       0.78      0.87      0.82       150\n",
      "           1       0.69      0.54      0.61        81\n",
      "\n",
      "    accuracy                           0.75       231\n",
      "   macro avg       0.73      0.70      0.71       231\n",
      "weighted avg       0.75      0.75      0.75       231\n",
      "\n"
     ]
    }
   ],
   "source": [
    "# Bagging - Random Forest\n",
    "rf_clf.fit(X_train, y_train)\n",
    "y_pred_rf = rf_clf.predict(X_test)\n",
    "print(\"Random Forest Accuracy:\", accuracy_score(y_test, y_pred_rf))\n",
    "print(\"Random Forest Classification Report:\\n\", classification_report(y_test, y_pred_rf))\n"
   ]
  },
  {
   "cell_type": "code",
   "execution_count": 8,
   "id": "ac0b3841",
   "metadata": {},
   "outputs": [
    {
     "name": "stdout",
     "output_type": "stream",
     "text": [
      "AdaBoost Accuracy: 0.7532467532467533\n",
      "AdaBoost Classification Report:\n",
      "               precision    recall  f1-score   support\n",
      "\n",
      "           0       0.79      0.85      0.82       150\n",
      "           1       0.68      0.57      0.62        81\n",
      "\n",
      "    accuracy                           0.75       231\n",
      "   macro avg       0.73      0.71      0.72       231\n",
      "weighted avg       0.75      0.75      0.75       231\n",
      "\n"
     ]
    }
   ],
   "source": [
    "# Boosting - AdaBoost\n",
    "ada_clf.fit(X_train, y_train)\n",
    "y_pred_ada = ada_clf.predict(X_test)\n",
    "print(\"AdaBoost Accuracy:\", accuracy_score(y_test, y_pred_ada))\n",
    "print(\"AdaBoost Classification Report:\\n\", classification_report(y_test, y_pred_ada))\n"
   ]
  },
  {
   "cell_type": "code",
   "execution_count": 9,
   "id": "f244d21c",
   "metadata": {},
   "outputs": [
    {
     "name": "stdout",
     "output_type": "stream",
     "text": [
      "Voting Classifier (Hard Voting) Accuracy: 0.7532467532467533\n",
      "Voting Classifier (Hard Voting) Classification Report:\n",
      "               precision    recall  f1-score   support\n",
      "\n",
      "           0       0.77      0.88      0.82       150\n",
      "           1       0.70      0.52      0.60        81\n",
      "\n",
      "    accuracy                           0.75       231\n",
      "   macro avg       0.74      0.70      0.71       231\n",
      "weighted avg       0.75      0.75      0.74       231\n",
      "\n"
     ]
    }
   ],
   "source": [
    "# Voting - Hard Voting\n",
    "voting_clf_hard = VotingClassifier(estimators=[\n",
    "    ('lr', lr_clf), ('rf', rf_clf), ('svc', svc_clf), ('knn', knn_clf)], voting='hard')\n",
    "voting_clf_hard.fit(X_train, y_train)\n",
    "y_pred_voting_hard = voting_clf_hard.predict(X_test)\n",
    "print(\"Voting Classifier (Hard Voting) Accuracy:\", accuracy_score(y_test, y_pred_voting_hard))\n",
    "print(\"Voting Classifier (Hard Voting) Classification Report:\\n\", classification_report(y_test, y_pred_voting_hard))\n"
   ]
  },
  {
   "cell_type": "code",
   "execution_count": 10,
   "id": "5be5ce08",
   "metadata": {},
   "outputs": [
    {
     "name": "stdout",
     "output_type": "stream",
     "text": [
      "Voting Classifier (Soft Voting) Accuracy: 0.7489177489177489\n",
      "Voting Classifier (Soft Voting) Classification Report:\n",
      "               precision    recall  f1-score   support\n",
      "\n",
      "           0       0.78      0.86      0.82       150\n",
      "           1       0.68      0.54      0.60        81\n",
      "\n",
      "    accuracy                           0.75       231\n",
      "   macro avg       0.73      0.70      0.71       231\n",
      "weighted avg       0.74      0.75      0.74       231\n",
      "\n"
     ]
    }
   ],
   "source": [
    "# Voting - Soft Voting\n",
    "voting_clf_soft = VotingClassifier(estimators=[\n",
    "    ('lr', lr_clf), ('rf', rf_clf), ('svc', svc_clf)], voting='soft')\n",
    "voting_clf_soft.fit(X_train, y_train)\n",
    "y_pred_voting_soft = voting_clf_soft.predict(X_test)\n",
    "print(\"Voting Classifier (Soft Voting) Accuracy:\", accuracy_score(y_test, y_pred_voting_soft))\n",
    "print(\"Voting Classifier (Soft Voting) Classification Report:\\n\", classification_report(y_test, y_pred_voting_soft))\n"
   ]
  },
  {
   "cell_type": "code",
   "execution_count": 11,
   "id": "882cdc46",
   "metadata": {},
   "outputs": [
    {
     "name": "stdout",
     "output_type": "stream",
     "text": [
      "Stacking Classifier Accuracy: 0.7575757575757576\n",
      "Stacking Classifier Classification Report:\n",
      "               precision    recall  f1-score   support\n",
      "\n",
      "           0       0.78      0.87      0.82       150\n",
      "           1       0.70      0.54      0.61        81\n",
      "\n",
      "    accuracy                           0.76       231\n",
      "   macro avg       0.74      0.71      0.72       231\n",
      "weighted avg       0.75      0.76      0.75       231\n",
      "\n"
     ]
    }
   ],
   "source": [
    "# Stacking\n",
    "stacking_clf = StackingClassifier(estimators=[\n",
    "    ('rf', rf_clf), ('svc', svc_clf), ('knn', knn_clf)], final_estimator=LogisticRegression())\n",
    "stacking_clf.fit(X_train, y_train)\n",
    "y_pred_stacking = stacking_clf.predict(X_test)\n",
    "print(\"Stacking Classifier Accuracy:\", accuracy_score(y_test, y_pred_stacking))\n",
    "print(\"Stacking Classifier Classification Report:\\n\", classification_report(y_test, y_pred_stacking))"
   ]
  },
  {
   "cell_type": "code",
   "execution_count": 12,
   "id": "5206697d",
   "metadata": {},
   "outputs": [],
   "source": [
    "# Compare the results\n",
    "results = {\n",
    "    \"Random Forest\": accuracy_score(y_test, y_pred_rf),\n",
    "    \"AdaBoost\": accuracy_score(y_test, y_pred_ada),\n",
    "    \"Voting (Hard)\": accuracy_score(y_test, y_pred_voting_hard),\n",
    "    \"Voting (Soft)\": accuracy_score(y_test, y_pred_voting_soft),\n",
    "    \"Stacking\": accuracy_score(y_test, y_pred_stacking)\n",
    "}"
   ]
  },
  {
   "cell_type": "code",
   "execution_count": 13,
   "id": "5a9c3d9f",
   "metadata": {},
   "outputs": [
    {
     "name": "stdout",
     "output_type": "stream",
     "text": [
      "\n",
      "Accuracy Comparison:\n",
      "Random Forest: 0.7532\n",
      "AdaBoost: 0.7532\n",
      "Voting (Hard): 0.7532\n",
      "Voting (Soft): 0.7489\n",
      "Stacking: 0.7576\n"
     ]
    }
   ],
   "source": [
    "print(\"\\nAccuracy Comparison:\")\n",
    "for method, acc in results.items():\n",
    "    print(f\"{method}: {acc:.4f}\")"
   ]
  },
  {
   "cell_type": "code",
   "execution_count": null,
   "id": "f2b7de79",
   "metadata": {},
   "outputs": [],
   "source": []
  }
 ],
 "metadata": {
  "kernelspec": {
   "display_name": "Python 3 (ipykernel)",
   "language": "python",
   "name": "python3"
  },
  "language_info": {
   "codemirror_mode": {
    "name": "ipython",
    "version": 3
   },
   "file_extension": ".py",
   "mimetype": "text/x-python",
   "name": "python",
   "nbconvert_exporter": "python",
   "pygments_lexer": "ipython3",
   "version": "3.13.5"
  }
 },
 "nbformat": 4,
 "nbformat_minor": 5
}
